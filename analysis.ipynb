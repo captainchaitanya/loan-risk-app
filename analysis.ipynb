{
 "cells": [
  {
   "cell_type": "code",
   "execution_count": null,
   "id": "e4e19b14",
   "metadata": {},
   "outputs": [
    {
     "ename": "",
     "evalue": "",
     "output_type": "error",
     "traceback": [
      "\u001b[1;31mFailed to start the Kernel. \n",
      "\u001b[1;31mView Jupyter <a href='command:jupyter.viewOutput'>log</a> for further details."
     ]
    }
   ],
   "source": [
    " # Import libraries\n",
    " import pandas as pd\n",
    " import seaborn as sns\n",
    " import matplotlib.pyplot as plt\n",
    " # Load the dataset\n",
    " df = pd.read_csv('train_u6lujuX_CVtuZ9i.csv')\n",
    " # See the first few rows\n",
    " print(df.head())\n",
    " # Get information about data types and missing values\n",
    " print(df.info())\n",
    " # Visualize relationships, e.g., Loan_Status vs. Credit_History\n",
    " sns.countplot(x='Credit_History', hue='Loan_Status', data=df)\n",
    " plt.show()"
   ]
  },
  {
   "cell_type": "code",
   "execution_count": null,
   "id": "da0276b5",
   "metadata": {},
   "outputs": [],
   "source": []
  }
 ],
 "metadata": {
  "kernelspec": {
   "display_name": "Julia 1.8.5",
   "language": "julia",
   "name": "julia-1.8"
  },
  "language_info": {
   "name": "julia"
  }
 },
 "nbformat": 4,
 "nbformat_minor": 5
}
